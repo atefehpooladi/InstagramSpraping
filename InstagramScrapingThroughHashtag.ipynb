{
 "cells": [
  {
   "cell_type": "code",
   "execution_count": null,
   "id": "db481f2c",
   "metadata": {},
   "outputs": [],
   "source": [
    "from selenium import webdriver\n",
    "from selenium.webdriver.common.keys import Keys\n",
    "from selenium.webdriver.support import expected_conditions as EC\n",
    "from selenium.webdriver.common.by import By\n",
    "from selenium.webdriver.support.wait import WebDriverWait\n",
    "from selenium.webdriver.chrome.options import Options\n",
    "from time import sleep\n",
    "import csv"
   ]
  },
  {
   "cell_type": "code",
   "execution_count": null,
   "id": "076c6a9d",
   "metadata": {},
   "outputs": [],
   "source": [
    "userAgent= 'Mozilla/5.0 (Windows NT 10.0; Win64; x64) AppleWebKit/537.36 (KHTML, like Gecko) Chrome/100.0.4896.88 Safari/537.36'\n",
    "options = Options()\n",
    "print(userAgent)\n",
    "options.add_argument(f'user-agent={userAgent}')\n",
    "driver = webdriver.Chrome(chrome_options=options, executable_path='C:/Program Files (x86)/WebDriver/chromedriver.exe')\n",
    "driver.get('https://www.instagram.com/')"
   ]
  },
  {
   "cell_type": "code",
   "execution_count": null,
   "id": "a077756d",
   "metadata": {},
   "outputs": [],
   "source": [
    "Cookis_Accept = WebDriverWait(driver,10).until(EC.element_to_be_clickable((By.XPATH,\"//button[contains(text(),'Only allow essential cookies')]\"))).click()"
   ]
  },
  {
   "cell_type": "code",
   "execution_count": null,
   "id": "cbb5655a",
   "metadata": {},
   "outputs": [],
   "source": [
    "username = WebDriverWait(driver,10).until(EC.element_to_be_clickable((By.CSS_SELECTOR,\"input[name = 'username']\")))\n",
    "password = WebDriverWait(driver,10).until(EC.element_to_be_clickable((By.CSS_SELECTOR,\"input[name = 'password']\")))\n",
    "\n",
    "username.clear()\n",
    "password.clear()\n",
    "username.send_keys('typeTheUsername')\n",
    "password.send_keys('typeThePass')"
   ]
  },
  {
   "cell_type": "code",
   "execution_count": null,
   "id": "7d89e979",
   "metadata": {},
   "outputs": [],
   "source": [
    "log_in = WebDriverWait(driver,10).until(EC.element_to_be_clickable((By.XPATH,\"//button[contains(., 'Log In')]\"))).click()"
   ]
  },
  {
   "cell_type": "code",
   "execution_count": null,
   "id": "93bb1d72",
   "metadata": {},
   "outputs": [],
   "source": [
    "not_now = WebDriverWait(driver,10).until(EC.element_to_be_clickable((By.XPATH,\"//button[contains(., 'Not Now')]\"))).click()"
   ]
  },
  {
   "cell_type": "code",
   "execution_count": null,
   "id": "a71a54f0",
   "metadata": {},
   "outputs": [],
   "source": [
    "not_now_notif = WebDriverWait(driver,10).until(EC.element_to_be_clickable((By.XPATH,\"//button[contains(., 'Not Now')]\"))).click()"
   ]
  },
  {
   "cell_type": "code",
   "execution_count": null,
   "id": "e4cb1102",
   "metadata": {},
   "outputs": [],
   "source": [
    "search_box = WebDriverWait(driver,10).until(EC.element_to_be_clickable((By.XPATH,\"//input[@placeholder = 'Search']\")))\n",
    "search_box.clear()\n",
    "keyword = '#makeup'\n",
    "search_box.send_keys(keyword)\n",
    "sleep(1)\n",
    "search_box.send_keys(Keys.ENTER)\n",
    "sleep(1)\n",
    "search_box.send_keys(Keys.ENTER)"
   ]
  },
  {
   "cell_type": "code",
   "execution_count": null,
   "id": "d4e8ca68",
   "metadata": {},
   "outputs": [],
   "source": [
    "locations_list=[]\n",
    "userIds_list=[]\n",
    "click_on_first_post = WebDriverWait(driver,10).until(EC.element_to_be_clickable((By.XPATH,\"//*[@id='react-root']/section/main/article/div[1]/div/div/div[1]/div[1]/a\"))).click()\n",
    "try:\n",
    "    loc = driver.find_element(By.XPATH, \"//a[@class='O4GlU']\").text\n",
    "    locations_list.append(loc)\n",
    "    userId = driver.find_element(By.XPATH, \"//span[@class='Jv7Aj mArmR MqpiF  ']\").text\n",
    "    userIds_list.append(userId)\n",
    "    next_post_1 = WebDriverWait(driver,10).until(EC.element_to_be_clickable((By.XPATH,\"/html/body/div[6]/div[2]/div/div/button\"))).click()\n",
    "except:\n",
    "     next_post_1 = WebDriverWait(driver,10).until(EC.element_to_be_clickable((By.XPATH,\"/html/body/div[6]/div[2]/div/div/button\"))).click()\n",
    "\n",
    "for item in range(500):\n",
    "     \n",
    "    try:\n",
    "       \n",
    "        loc1 = driver.find_element(By.XPATH, \"//a[@class='O4GlU']\").text\n",
    "        locations_list.append(loc1)\n",
    "        userId1 = driver.find_element(By.XPATH, \"//span[@class='Jv7Aj mArmR MqpiF  ']\").text\n",
    "        userIds_list.append(userId1)\n",
    "        next_post = WebDriverWait(driver,10).until(EC.element_to_be_clickable((By.XPATH,\"/html/body/div[6]/div[2]/div/div[2]/button\"))).click()\n",
    "       \n",
    "\n",
    "    except:\n",
    "        next_post = WebDriverWait(driver,10).until(EC.element_to_be_clickable((By.XPATH,\"/html/body/div[6]/div[2]/div/div[2]/button\"))).click()\n",
    "       \n",
    "       \n",
    "scraped_data = {userIds_list[i]: locations_list[i] for i in range(len(locations_list))}\n",
    "print (\"Created dictionary:\",scraped_data)"
   ]
  },
  {
   "cell_type": "code",
   "execution_count": null,
   "id": "fddd87bf",
   "metadata": {},
   "outputs": [],
   "source": [
    "Header= ['User_Id','location']\n",
    "with open('InstagramData.csv' ,'w',encoding='utf-8-sig',newline='') as f: \n",
    "    writer = csv.writer(f) \n",
    "    writer.writerow(Header) \n",
    "    for key, value in scraped_data.items():\n",
    "        writer.writerow([key, value])"
   ]
  }
 ],
 "metadata": {
  "kernelspec": {
   "display_name": "Python 3 (ipykernel)",
   "language": "python",
   "name": "python3"
  },
  "language_info": {
   "codemirror_mode": {
    "name": "ipython",
    "version": 3
   },
   "file_extension": ".py",
   "mimetype": "text/x-python",
   "name": "python",
   "nbconvert_exporter": "python",
   "pygments_lexer": "ipython3",
   "version": "3.9.7"
  }
 },
 "nbformat": 4,
 "nbformat_minor": 5
}
